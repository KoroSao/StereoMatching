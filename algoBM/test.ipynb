{
 "cells": [
  {
   "cell_type": "code",
   "execution_count": 1,
   "id": "ea8417b3-6704-46c0-9403-07d176feed61",
   "metadata": {
    "tags": []
   },
   "outputs": [],
   "source": [
    "import os\n",
    "import sys\n",
    "import time\n",
    "from skimage import io\n",
    "from skimage.color import rgb2gray\n",
    "from blockmatching import *\n",
    "from utils import compute_census\n",
    "import matplotlib.pyplot as plt\n",
    "import cv2"
   ]
  },
  {
   "cell_type": "code",
   "execution_count": 2,
   "id": "e6d8dc36-6052-4cfc-8019-51fa9a91263d",
   "metadata": {
    "tags": []
   },
   "outputs": [],
   "source": [
    "Ig = \"../teddy/im2.png\"\n",
    "Id = \"../teddy/im6.png\"\n",
    "\n",
    "left = cv2.imread(Ig, cv2.IMREAD_GRAYSCALE)\n",
    "right = cv2.imread(Id, cv2.IMREAD_GRAYSCALE)\n",
    "\n",
    "height = left.shape[0]\n",
    "width = left.shape[1]\n",
    "\n",
    "csize=(3,3)"
   ]
  },
  {
   "cell_type": "code",
   "execution_count": 3,
   "id": "99bd6f5c-9b85-46bb-a813-f1f72d1f41fa",
   "metadata": {
    "tags": []
   },
   "outputs": [
    {
     "name": "stdout",
     "output_type": "stream",
     "text": [
      "\tComputing left and right census...\t(done in 3.19s)\n"
     ]
    }
   ],
   "source": [
    "left_census, right_census = compute_census(left, right, csize, height, width)"
   ]
  },
  {
   "cell_type": "code",
   "execution_count": null,
   "id": "caa358b2-a9df-4a8e-90a3-a93d00620843",
   "metadata": {},
   "outputs": [],
   "source": [
    "def compute_best_params"
   ]
  }
 ],
 "metadata": {
  "kernelspec": {
   "display_name": "Python 3 (ipykernel)",
   "language": "python",
   "name": "python3"
  },
  "language_info": {
   "codemirror_mode": {
    "name": "ipython",
    "version": 3
   },
   "file_extension": ".py",
   "mimetype": "text/x-python",
   "name": "python",
   "nbconvert_exporter": "python",
   "pygments_lexer": "ipython3",
   "version": "3.10.10"
  }
 },
 "nbformat": 4,
 "nbformat_minor": 5
}
